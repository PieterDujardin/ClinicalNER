{
  "nbformat": 4,
  "nbformat_minor": 0,
  "metadata": {
    "kernelspec": {
      "name": "python3",
      "display_name": "Python 3"
    },
    "colab": {
      "name": "CRF_scikitlearn_on_EMEAandMEDLINE.ipynb",
      "provenance": [],
      "collapsed_sections": [
        "fWtazl0QrIlt",
        "n1Y2VhlmrIl9",
        "4kFmUvPWrIml",
        "7lWLjusSrImr",
        "3N5Mz6r-rIm0"
      ],
      "include_colab_link": true
    }
  },
  "cells": [
    {
      "cell_type": "markdown",
      "metadata": {
        "id": "view-in-github",
        "colab_type": "text"
      },
      "source": [
        "<a href=\"https://colab.research.google.com/github/PieterDujardin/NER/blob/master/ColabNotebooks/EMEAandMedline/CRF_scikitlearn_on_EMEAandMEDLINE.ipynb\" target=\"_parent\"><img src=\"https://colab.research.google.com/assets/colab-badge.svg\" alt=\"Open In Colab\"/></a>"
      ]
    },
    {
      "cell_type": "markdown",
      "metadata": {
        "id": "fWtazl0QrIlt",
        "colab_type": "text"
      },
      "source": [
        "# import statements\n"
      ]
    },
    {
      "cell_type": "code",
      "metadata": {
        "id": "SwQbvYqPsWS4",
        "colab_type": "code",
        "colab": {}
      },
      "source": [
        "from google.colab import drive\n",
        "drive.mount('/content/drive')"
      ],
      "execution_count": 0,
      "outputs": []
    },
    {
      "cell_type": "code",
      "metadata": {
        "id": "9Wa4XMixrIlv",
        "colab_type": "code",
        "colab": {}
      },
      "source": [
        "%matplotlib inline\n",
        "import matplotlib.pyplot as plt\n",
        "plt.style.use('ggplot')\n",
        "from sklearn.model_selection import train_test_split\n",
        "\n",
        "# import spacy\n",
        "# nlp = spacy.load(\"en_core_web_sm\")\n",
        "# nlp = spacy.load(\"es_core_news_sm\")"
      ],
      "execution_count": 0,
      "outputs": []
    },
    {
      "cell_type": "code",
      "metadata": {
        "id": "K11Ca_x-rIl1",
        "colab_type": "code",
        "colab": {}
      },
      "source": [
        "!pip install sklearn_crfsuite\n",
        "!pip install seqeval"
      ],
      "execution_count": 0,
      "outputs": []
    },
    {
      "cell_type": "code",
      "metadata": {
        "id": "Sj0JXDNNrIl4",
        "colab_type": "code",
        "colab": {}
      },
      "source": [
        "from itertools import chain\n",
        "\n",
        "import nltk\n",
        "import sklearn\n",
        "import scipy.stats\n",
        "from sklearn.metrics import make_scorer\n",
        "from sklearn.model_selection import cross_val_score\n",
        "from sklearn.model_selection import RandomizedSearchCV\n",
        "from sklearn.model_selection import train_test_split\n",
        "\n",
        "\n",
        "\n",
        "import sklearn_crfsuite\n",
        "from sklearn_crfsuite import scorers\n",
        "\n",
        "\n",
        "# from sklearn.metrics import f1_score\n",
        "\n",
        "from seqeval.metrics import classification_report,accuracy_score,f1_score\n",
        "\n",
        "from sklearn_crfsuite import metrics"
      ],
      "execution_count": 0,
      "outputs": []
    },
    {
      "cell_type": "code",
      "metadata": {
        "id": "pn-bWpoYrIl7",
        "colab_type": "code",
        "colab": {}
      },
      "source": [
        ""
      ],
      "execution_count": 0,
      "outputs": []
    },
    {
      "cell_type": "markdown",
      "metadata": {
        "id": "n1Y2VhlmrIl9",
        "colab_type": "text"
      },
      "source": [
        "# function definitions"
      ]
    },
    {
      "cell_type": "code",
      "metadata": {
        "id": "JrMPC74arIl9",
        "colab_type": "code",
        "colab": {}
      },
      "source": [
        "def loadandformat(datasets):\n",
        "    \n",
        "    data=[]\n",
        "    for dataset in datasets:\n",
        "        # the training, dev and test set in one file\n",
        "        with open('drive/My Drive/Colab Notebooks/#4_BERT_on_EMEA_and_MEDLINE/EMEA_MEDLINE/{}'.format(dataset),'r') as f:\n",
        "            data +=  f.readlines()\n",
        "    words=[]\n",
        "    for line in data:\n",
        "        word=line.split()\n",
        "        words.append(word)\n",
        "\n",
        "    sentence=[]\n",
        "    sentences=[]\n",
        "    nertag=[]\n",
        "    nertags=[]\n",
        "\n",
        "    for i in range(len(words)): \n",
        "        if words[i]==[]:\n",
        "            sentences.append(sentence)\n",
        "            sentence=[]\n",
        "            nertags.append(nertag)\n",
        "            nertag=[]\n",
        "        else:\n",
        "            if len(words[i]) == 2:\n",
        "                sentence.append(words[i][0])\n",
        "                nertag.append(words[i][1])\n",
        "            else:\n",
        "                sentence.append(words[i][0])\n",
        "                nertag.append(words[i][2])\n",
        "\n",
        "\n",
        "    joinedlist =[]\n",
        "    for i in range(len(nertags)-1):\n",
        "        joinedlist.extend(nertags[i])\n",
        "\n",
        "    tags_vals = list(set(joinedlist))\n",
        "\n",
        "    tags_vals.append('X')\n",
        "    tags_vals.append('[CLS]')\n",
        "    tags_vals.append('[SEP]')\n",
        "\n",
        "    tag2idx = {t: i for i, t in enumerate(tags_vals)}\n",
        "    tag2name={tag2idx[key] : key for key in tag2idx.keys()}\n",
        "\n",
        "    return (sentences,nertags,tags_vals,tag2idx,tag2name)"
      ],
      "execution_count": 0,
      "outputs": []
    },
    {
      "cell_type": "code",
      "metadata": {
        "id": "qooT6WjIrImB",
        "colab_type": "code",
        "colab": {}
      },
      "source": [
        "def word2features(sent, i):\n",
        "    word = sent[i]\n",
        "#     postag = sent[i][1]\n",
        "#     doc = nlp(word)\n",
        "    \n",
        "    features = {\n",
        "        'bias': 1.0,\n",
        "        'word.lower()': word.lower(),\n",
        "        'word[-3:]': word[-3:],\n",
        "        'word[-2:]': word[-2:],\n",
        "        'word.isupper()': word.isupper(),\n",
        "        'word.istitle()': word.istitle(),\n",
        "        'word.isdigit()': word.isdigit(),\n",
        "        # 'postag': postag,\n",
        "        # 'postag[:2]': postag[:2],\n",
        "        'prefix_1': word[0],\n",
        "        'prefix_2': word[:2],\n",
        "        'prefix_3': word[:3],\n",
        "        'prefix_4': word[:4],\n",
        "        'suffix_5': word[-1:],\n",
        "        'suffix_6': word[-2:],\n",
        "        'suffix_7': word[-3:],\n",
        "        'suffix_8': word[-4:],\n",
        "        'word_has_hyphen': 1 if '-' in word else 0,\n",
        "        'token_length': len(word),\n",
        "        'position_in_sentence': i,\n",
        "        'fractional_position': i/len(sent),\n",
        "#         'which_bin_in_sentence0': 1 if (i/len(sent)) <= 0.25 else 0,\n",
        "#         'which_bin_in_sentence1': 1 if  0.25 <= i/len(sent) <=0.5 else 0,\n",
        "#         'which_bin_in_sentence2': 1 if 0.5 <= i/len(sent) <=0.75 else 0,\n",
        "#         'which_bin_in_sentence3': 1 if 0.75<= i/len(sent) else 0,\n",
        "        \n",
        "#         'spacy_01': doc[0].tag_,\n",
        "#         'spacy_02': doc[0].dep_,\n",
        "#         'spacy_03': doc[0].shape_,\n",
        "#         'spacy_04': doc[0].like_num,\n",
        "#         'spacy_05': doc[0].lemma_,\n",
        "#         'spacy_06': doc[0].is_stop,\n",
        "#         'spacy_07': doc[0].is_bracket,\n",
        "#         'spacy_08': doc[0].is_alpha, \n",
        "    }\n",
        "    \n",
        "    \n",
        "    if i > 0:\n",
        "        word1 = sent[i-1]\n",
        "#         postag1 = sent[i-1][1]\n",
        "#         doc1= nlp(word1)\n",
        "        \n",
        "        features.update({\n",
        "            '-1:word.lower()': word1.lower(),\n",
        "            '-1:word.istitle()': word1.istitle(),\n",
        "            '-1:word.isupper()': word1.isupper(),\n",
        "#             '-1:postag': postag1,\n",
        "#             '-1:postag[:2]': postag1[:2],\n",
        "            \n",
        "#             '-1:spacy_01': doc1[0].tag_,\n",
        "#             '-1:spacy_02': doc1[0].dep_,\n",
        "#             '-1:spacy_03': doc1[0].shape_,\n",
        "#             '-1:spacy_04': doc1[0].like_num,\n",
        "#             '-1:spacy_05': doc1[0].lemma_,\n",
        "#             '-1:spacy_06': doc1[0].is_stop,\n",
        "#             '-1:spacy_07': doc1[0].is_bracket,\n",
        "#             '-1:spacy_08': doc1[0].is_alpha, \n",
        "     \n",
        "        })\n",
        "    else:\n",
        "        features['BOS'] = True\n",
        "        \n",
        "        \n",
        "    if i < len(sent)-1:\n",
        "        word1 = sent[i+1]\n",
        "#         postag1 = sent[i+1][1]\n",
        "#         doc2= nlp(word1)\n",
        "        \n",
        "        features.update({\n",
        "            '+1:word.lower()': word1.lower(),\n",
        "            '+1:word.istitle()': word1.istitle(),\n",
        "            '+1:word.isupper()': word1.isupper(),\n",
        "#             '+1:postag': postag1,\n",
        "#             '+1:postag[:2]': postag1[:2],\n",
        "            \n",
        "#             '+1:spacy_01': doc2[0].tag_,\n",
        "#             '+1:spacy_02': doc2[0].dep_,\n",
        "#             '+1:spacy_03': doc2[0].shape_,\n",
        "#             '+1:spacy_04': doc2[0].like_num,\n",
        "#             '+1:spacy_05': doc2[0].lemma_,\n",
        "#             '+1:spacy_06': doc2[0].is_stop,\n",
        "#             '+1:spacy_07': doc1[0].is_bracket,\n",
        "#             '+1:spacy_08': doc1[0].is_alpha, \n",
        "            \n",
        "            \n",
        "        })\n",
        "    else:\n",
        "        features['EOS'] = True\n",
        "                \n",
        "    if i > 1:  \n",
        "        word2 = sent[i-2]\n",
        "#         postag2 = sent[i-2][1]\n",
        "        \n",
        "        features.update({\n",
        "            '-2:word.lower()': word2.lower(),\n",
        "            '-2:word.istitle()': word2.istitle(),\n",
        "            '-2:word.isupper()': word2.isupper(),\n",
        "#             '-2:postag': postag2,\n",
        "#             '-2:postag[:2]': postag2[:2],\n",
        "             })\n",
        "        \n",
        "    if i < len(sent)-2:\n",
        "        word2 = sent[i+2]\n",
        "#         postag2 = sent[i+2][1]\n",
        "        \n",
        "        features.update({\n",
        "            '+2:word.lower()': word2.lower(),\n",
        "            '+2:word.istitle()': word2.istitle(),\n",
        "            '+2:word.isupper()': word2.isupper(),\n",
        "#             '+2:postag': postag2,\n",
        "#             '+2:postag[:2]': postag2[:2],\n",
        "        })\n",
        "            \n",
        "    return features\n",
        "\n",
        "\n",
        "def sent2features(sent):\n",
        "    return [word2features(sent, i) for i in range(len(sent))]\n",
        "\n",
        "def sent2labels(sent):\n",
        "    return [label for token, postag, label in sent]\n",
        "\n",
        "def sent2tokens(sent):\n",
        "    return [token for token, postag, label in sent]"
      ],
      "execution_count": 0,
      "outputs": []
    },
    {
      "cell_type": "markdown",
      "metadata": {
        "id": "4nvryzy3rImD",
        "colab_type": "text"
      },
      "source": [
        "# function calls"
      ]
    },
    {
      "cell_type": "code",
      "metadata": {
        "id": "ytN6OsWorImE",
        "colab_type": "code",
        "colab": {}
      },
      "source": [
        "listwdata = ['FR.StLuc.Demo.EMEAtrain.20180409.txt','FR.StLuc.Demo.EMEAdev.20180409.txt', 'FR.StLuc.Demo.EMEAtest.20180409.txt'] #'FR.StLuc.Demo.MEDLINEtrain.20180409.txt', 'FR.StLuc.Demo.MEDLINEdev.20180409.txt', 'FR.StLuc.Demo.MEDLINEtest.20180409.txt'\n",
        "\n",
        "#'FR.StLuc.Demo.EMEAtrain.20180409.txt','FR.StLuc.Demo.EMEAdev.20180409.txt', 'FR.StLuc.Demo.EMEAtest.20180409.txt'\n",
        "# 'FR.StLuc.Demo.MEDLINEtrain.20180409.txt', 'FR.StLuc.Demo.MEDLINEdev.20180409.txt', 'FR.StLuc.Demo.MEDLINEtest.20180409.txt'\n",
        "(sentences,labels,tags_vals,tag2idx,tag2name) = loadandformat(listwdata)"
      ],
      "execution_count": 0,
      "outputs": []
    },
    {
      "cell_type": "code",
      "metadata": {
        "id": "SQhEeaturImJ",
        "colab_type": "code",
        "colab": {}
      },
      "source": [
        "train_sents, test_sents, y_train, y_test= train_test_split(sentences,labels, random_state=1, test_size=0.25)"
      ],
      "execution_count": 0,
      "outputs": []
    },
    {
      "cell_type": "code",
      "metadata": {
        "id": "opx6B64trImL",
        "colab_type": "code",
        "colab": {}
      },
      "source": [
        "train_sents, dev_sents, y_train, y_dev= train_test_split(train_sents,y_train, random_state=1, test_size=0.2)"
      ],
      "execution_count": 0,
      "outputs": []
    },
    {
      "cell_type": "code",
      "metadata": {
        "id": "iP5TdgbbQT3G",
        "colab_type": "code",
        "colab": {}
      },
      "source": [
        "test_sents[0]"
      ],
      "execution_count": 0,
      "outputs": []
    },
    {
      "cell_type": "markdown",
      "metadata": {
        "id": "OScaVqCbrImQ",
        "colab_type": "text"
      },
      "source": [
        "This is what word2features extracts:"
      ]
    },
    {
      "cell_type": "code",
      "metadata": {
        "id": "on07wkDlrImR",
        "colab_type": "code",
        "colab": {}
      },
      "source": [
        "# word2features(train_sents[0], 0)\n",
        "\n",
        "# word2features(sentences[0], 0)\n",
        "\n",
        "# sent2features(train_sents[0])"
      ],
      "execution_count": 0,
      "outputs": []
    },
    {
      "cell_type": "markdown",
      "metadata": {
        "id": "TleVp04lrImT",
        "colab_type": "text"
      },
      "source": [
        "Extract features from the data:"
      ]
    },
    {
      "cell_type": "code",
      "metadata": {
        "id": "XoB03KOgrImT",
        "colab_type": "code",
        "colab": {}
      },
      "source": [
        "# %%time\n",
        "# X_train = [sent2features(s) for s in train_sents]\n",
        "# y_train = [sent2labels(s) for s in train_sents]\n",
        "\n",
        "# X_test = [sent2features(s) for s in test_sents]\n",
        "# y_test = [sent2labels(s) for s in test_sents]"
      ],
      "execution_count": 0,
      "outputs": []
    },
    {
      "cell_type": "code",
      "metadata": {
        "id": "COydd8o4rImZ",
        "colab_type": "code",
        "colab": {}
      },
      "source": [
        "X_train = [sent2features(s) for s in train_sents]\n",
        "X_dev = [sent2features(s) for s in dev_sents]\n",
        "X_test = [sent2features(s) for s in test_sents]"
      ],
      "execution_count": 0,
      "outputs": []
    },
    {
      "cell_type": "code",
      "metadata": {
        "id": "jqvhJAv7rImb",
        "colab_type": "code",
        "colab": {}
      },
      "source": [
        "# X_train[0],y_train[0]"
      ],
      "execution_count": 0,
      "outputs": []
    },
    {
      "cell_type": "markdown",
      "metadata": {
        "id": "_vRd9LsZrIme",
        "colab_type": "text"
      },
      "source": [
        "## Training\n",
        "\n",
        "To see all possible CRF parameters check its docstring. Here we are useing L-BFGS training algorithm (it is default) with Elastic Net (L1 + L2) regularization."
      ]
    },
    {
      "cell_type": "code",
      "metadata": {
        "id": "vZo8cuNvrImf",
        "colab_type": "code",
        "colab": {}
      },
      "source": [
        "%%time\n",
        "crf = sklearn_crfsuite.CRF(\n",
        "    algorithm='lbfgs', \n",
        "    c1=0.12, \n",
        "    c2=0.08, \n",
        "    max_iterations=100, \n",
        "    all_possible_transitions=True\n",
        ")\n",
        "crf.fit(X_train, y_train, X_dev=X_dev, y_dev= y_dev)"
      ],
      "execution_count": 0,
      "outputs": []
    },
    {
      "cell_type": "markdown",
      "metadata": {
        "id": "DUESVuTYrImh",
        "colab_type": "text"
      },
      "source": [
        "## Evaluation\n"
      ]
    },
    {
      "cell_type": "code",
      "metadata": {
        "id": "PXTyGOqGrImh",
        "colab_type": "code",
        "colab": {}
      },
      "source": [
        "labels = list(crf.classes_)\n",
        "labels.remove('O')\n",
        "labels"
      ],
      "execution_count": 0,
      "outputs": []
    },
    {
      "cell_type": "code",
      "metadata": {
        "id": "OA0pIPCvrImj",
        "colab_type": "code",
        "colab": {}
      },
      "source": [
        "y_pred = crf.predict(X_test) "
      ],
      "execution_count": 0,
      "outputs": []
    },
    {
      "cell_type": "markdown",
      "metadata": {
        "id": "4kFmUvPWrIml",
        "colab_type": "text"
      },
      "source": [
        "## F1-calculation 1 - sklearn_crfsuite.metrics"
      ]
    },
    {
      "cell_type": "code",
      "metadata": {
        "id": "HmDmUjWjrIml",
        "colab_type": "code",
        "colab": {}
      },
      "source": [
        "from sklearn_crfsuite import metrics"
      ],
      "execution_count": 0,
      "outputs": []
    },
    {
      "cell_type": "code",
      "metadata": {
        "id": "JCpMPgRLrImn",
        "colab_type": "code",
        "colab": {}
      },
      "source": [
        "#https://scikit-learn.org/stable/modules/generated/sklearn.metrics.f1_score.html\n",
        "#micro macro weighted\n",
        "metrics.flat_f1_score(y_test, y_pred,average='micro',labels=labels) "
      ],
      "execution_count": 0,
      "outputs": []
    },
    {
      "cell_type": "markdown",
      "metadata": {
        "id": "NzVsNi_-rImp",
        "colab_type": "text"
      },
      "source": [
        "Inspect per-class results in more detail:"
      ]
    },
    {
      "cell_type": "code",
      "metadata": {
        "id": "ZGxFlMjprImp",
        "colab_type": "code",
        "colab": {}
      },
      "source": [
        "# group B and I results\n",
        "sorted_labels = sorted(\n",
        "    labels, \n",
        "    key=lambda name: (name[1:], name[0])\n",
        ")\n",
        "print(metrics.flat_classification_report(\n",
        "    y_test, y_pred,labels=sorted_labels, digits=3\n",
        ")) "
      ],
      "execution_count": 0,
      "outputs": []
    },
    {
      "cell_type": "markdown",
      "metadata": {
        "id": "7lWLjusSrImr",
        "colab_type": "text"
      },
      "source": [
        "## F1-calculation 2 - sequal metrics\n"
      ]
    },
    {
      "cell_type": "code",
      "metadata": {
        "id": "TWudgJairImr",
        "colab_type": "code",
        "colab": {}
      },
      "source": [
        "from seqeval.metrics import classification_report,accuracy_score,f1_score\n"
      ],
      "execution_count": 0,
      "outputs": []
    },
    {
      "cell_type": "code",
      "metadata": {
        "id": "CxkunezxrImu",
        "colab_type": "code",
        "colab": {}
      },
      "source": [
        "f1_score"
      ],
      "execution_count": 0,
      "outputs": []
    },
    {
      "cell_type": "code",
      "metadata": {
        "id": "5Dg1Sr3erImx",
        "colab_type": "code",
        "colab": {}
      },
      "source": [
        "f1_score(y_test,y_pred)"
      ],
      "execution_count": 0,
      "outputs": []
    },
    {
      "cell_type": "code",
      "metadata": {
        "id": "QJs9TZe8rImy",
        "colab_type": "code",
        "colab": {}
      },
      "source": [
        "report = classification_report(y_test, y_pred,digits=4)\n",
        "print(report)"
      ],
      "execution_count": 0,
      "outputs": []
    },
    {
      "cell_type": "markdown",
      "metadata": {
        "id": "3N5Mz6r-rIm0",
        "colab_type": "text"
      },
      "source": [
        "## F1-calc 3 -"
      ]
    },
    {
      "cell_type": "code",
      "metadata": {
        "id": "c_nMCD54rIm0",
        "colab_type": "code",
        "colab": {}
      },
      "source": [
        "from sklearn.metrics import f1_score,classification_report"
      ],
      "execution_count": 0,
      "outputs": []
    },
    {
      "cell_type": "code",
      "metadata": {
        "id": "_Y4xX_M1rIm2",
        "colab_type": "code",
        "colab": {}
      },
      "source": [
        "f1_score"
      ],
      "execution_count": 0,
      "outputs": []
    },
    {
      "cell_type": "code",
      "metadata": {
        "id": "S269xYIDrIm4",
        "colab_type": "code",
        "colab": {}
      },
      "source": [
        "## flatten in order to use this"
      ],
      "execution_count": 0,
      "outputs": []
    },
    {
      "cell_type": "code",
      "metadata": {
        "id": "8_RyaMbPrIm6",
        "colab_type": "code",
        "colab": {}
      },
      "source": [
        "# f1_score(y_test,y_pred, average='micro', labels=labels)"
      ],
      "execution_count": 0,
      "outputs": []
    },
    {
      "cell_type": "code",
      "metadata": {
        "id": "NSjqK9MMrIm8",
        "colab_type": "code",
        "colab": {}
      },
      "source": [
        "print(classification_report(y_test,y_pred,labels=labels ))"
      ],
      "execution_count": 0,
      "outputs": []
    },
    {
      "cell_type": "markdown",
      "metadata": {
        "id": "cm8_Uu0FrIm-",
        "colab_type": "text"
      },
      "source": [
        "# predictions"
      ]
    },
    {
      "cell_type": "code",
      "metadata": {
        "id": "c7KBhI6SrIm-",
        "colab_type": "code",
        "colab": {}
      },
      "source": [
        "a =0\n",
        "\n",
        "test_sents[a],y_test[a],y_pred[a]"
      ],
      "execution_count": 0,
      "outputs": []
    },
    {
      "cell_type": "code",
      "metadata": {
        "id": "4GjWfA5OrInA",
        "colab_type": "code",
        "colab": {}
      },
      "source": [
        "a = 0\n",
        "print( '\\n')\n",
        "print(test_sents[a])\n",
        "print('\\033[1m' + \"Labels:      \" + '\\033[0m' + str(y_test[a]))\n",
        "print('\\033[1m' + \"Predictions: \"+ '\\033[0m' + str(y_pred[a]))\n",
        "print('\\n')"
      ],
      "execution_count": 0,
      "outputs": []
    },
    {
      "cell_type": "code",
      "metadata": {
        "id": "UM-Cp2LhrInC",
        "colab_type": "code",
        "colab": {}
      },
      "source": [
        "a = 2\n",
        "print( '\\n')\n",
        "print(test_sents[a])\n",
        "print('\\033[1m' + \"Labels:      \" + '\\033[0m' + str(y_test[a]))\n",
        "print('\\033[1m' + \"Predictions: \"+ '\\033[0m' + str(y_pred[a]))\n",
        "print('\\n')"
      ],
      "execution_count": 0,
      "outputs": []
    },
    {
      "cell_type": "code",
      "metadata": {
        "id": "EhBIGOjTrInE",
        "colab_type": "code",
        "colab": {}
      },
      "source": [
        "a = 4\n",
        "print( '\\n')\n",
        "print(test_sents[a])\n",
        "print('\\033[1m' + \"Labels:      \" + '\\033[0m' + str(y_test[a]))\n",
        "print('\\033[1m' + \"Predictions: \"+ '\\033[0m' + str(y_pred[a]))\n",
        "print('\\n')"
      ],
      "execution_count": 0,
      "outputs": []
    },
    {
      "cell_type": "code",
      "metadata": {
        "id": "tCQmOvDJrInH",
        "colab_type": "code",
        "colab": {}
      },
      "source": [
        "a = 5\n",
        "print( '\\n')\n",
        "print(test_sents[a])\n",
        "print('\\033[1m' + \"Labels:      \" + '\\033[0m' + str(y_test[a]))\n",
        "print('\\033[1m' + \"Predictions: \"+ '\\033[0m' + str(y_pred[a]))\n",
        "print('\\n')"
      ],
      "execution_count": 0,
      "outputs": []
    },
    {
      "cell_type": "code",
      "metadata": {
        "id": "8rBIQ45frInI",
        "colab_type": "code",
        "colab": {}
      },
      "source": [
        "a = 8\n",
        "print( '\\n')\n",
        "print(test_sents[a])\n",
        "print('\\033[1m' + \"Labels:      \" + '\\033[0m' + str(y_test[a]))\n",
        "print('\\033[1m' + \"Predictions: \"+ '\\033[0m' + str(y_pred[a]))\n",
        "print('\\n')"
      ],
      "execution_count": 0,
      "outputs": []
    },
    {
      "cell_type": "code",
      "metadata": {
        "id": "ThjPqN4CrInL",
        "colab_type": "code",
        "colab": {}
      },
      "source": [
        "a = 9\n",
        "print( '\\n')\n",
        "print(test_sents[a])\n",
        "print('\\033[1m' + \"Labels:      \" + '\\033[0m' + str(y_test[a]))\n",
        "print('\\033[1m' + \"Predictions: \"+ '\\033[0m' + str(y_pred[a]))\n",
        "print('\\n')"
      ],
      "execution_count": 0,
      "outputs": []
    },
    {
      "cell_type": "code",
      "metadata": {
        "id": "xIhMVl0YrInN",
        "colab_type": "code",
        "colab": {}
      },
      "source": [
        "a = 10\n",
        "print( '\\n')\n",
        "print(test_sents[a])\n",
        "print('\\033[1m' + \"Labels:      \" + '\\033[0m' + str(y_test[a]))\n",
        "print('\\033[1m' + \"Predictions: \"+ '\\033[0m' + str(y_pred[a]))\n",
        "print('\\n')"
      ],
      "execution_count": 0,
      "outputs": []
    },
    {
      "cell_type": "code",
      "metadata": {
        "id": "4iFiayAyrInO",
        "colab_type": "code",
        "colab": {}
      },
      "source": [
        "a = 13\n",
        "print( '\\n')\n",
        "print(test_sents[a])\n",
        "print('\\033[1m' + \"Labels:      \" + '\\033[0m' + str(y_test[a]))\n",
        "print('\\033[1m' + \"Predictions: \"+ '\\033[0m' + str(y_pred[a]))\n",
        "print('\\n')"
      ],
      "execution_count": 0,
      "outputs": []
    },
    {
      "cell_type": "code",
      "metadata": {
        "id": "zfJ_UsbIrInR",
        "colab_type": "code",
        "colab": {}
      },
      "source": [
        "a = 14\n",
        "print( '\\n')\n",
        "print(test_sents[a])\n",
        "print('\\033[1m' + \"Labels:      \" + '\\033[0m' + str(y_test[a]))\n",
        "print('\\033[1m' + \"Predictions: \"+ '\\033[0m' + str(y_pred[a]))\n",
        "print('\\n')"
      ],
      "execution_count": 0,
      "outputs": []
    },
    {
      "cell_type": "code",
      "metadata": {
        "id": "FY1jC_grrInS",
        "colab_type": "code",
        "colab": {}
      },
      "source": [
        "a = 15\n",
        "print( '\\n')\n",
        "print(test_sents[a])\n",
        "print('\\033[1m' + \"Labels:      \" + '\\033[0m' + str(y_test[a]))\n",
        "print('\\033[1m' + \"Predictions: \"+ '\\033[0m' + str(y_pred[a]))\n",
        "print('\\n')"
      ],
      "execution_count": 0,
      "outputs": []
    },
    {
      "cell_type": "code",
      "metadata": {
        "id": "FM2u6nSdrInV",
        "colab_type": "code",
        "colab": {}
      },
      "source": [
        "a = 19\n",
        "print( '\\n')\n",
        "print(test_sents[a])\n",
        "print('\\033[1m' + \"Labels:      \" + '\\033[0m' + str(y_test[a]))\n",
        "print('\\033[1m' + \"Predictions: \"+ '\\033[0m' + str(y_pred[a]))\n",
        "print('\\n')"
      ],
      "execution_count": 0,
      "outputs": []
    },
    {
      "cell_type": "markdown",
      "metadata": {
        "id": "FUtZQShgrInX",
        "colab_type": "text"
      },
      "source": [
        "## Hyperparameter Optimization\n",
        "\n"
      ]
    },
    {
      "cell_type": "code",
      "metadata": {
        "id": "xRM-YQYqrInX",
        "colab_type": "code",
        "colab": {}
      },
      "source": [
        "%%time\n",
        "# define fixed parameters and parameters to search\n",
        "crf = sklearn_crfsuite.CRF(\n",
        "    algorithm='lbfgs', \n",
        "    max_iterations=100, \n",
        "    all_possible_transitions=True)\n",
        "\n",
        "params_space = {\n",
        "    'c1': scipy.stats.expon(scale=0.5),\n",
        "    'c2': scipy.stats.expon(scale=0.05),\n",
        "}\n",
        "\n",
        "# use the same metric for evaluation\n",
        "f1_scorer = make_scorer(metrics.flat_f1_score, \n",
        "                        average='weighted', labels=labels)\n",
        "\n",
        "# search\n",
        "rs = RandomizedSearchCV(crf, params_space, \n",
        "                        cv=3, \n",
        "                        verbose = 2, \n",
        "                        n_jobs = -1, \n",
        "                        n_iter = 10, \n",
        "                        scoring = f1_scorer)\n",
        "\n",
        "rs.fit(X_train, y_train)"
      ],
      "execution_count": 0,
      "outputs": []
    },
    {
      "cell_type": "markdown",
      "metadata": {
        "id": "Fbk7Fvs_rInZ",
        "colab_type": "text"
      },
      "source": [
        "Best result:"
      ]
    },
    {
      "cell_type": "code",
      "metadata": {
        "id": "MEKxCsq7rInZ",
        "colab_type": "code",
        "colab": {}
      },
      "source": [
        "# crf = rs.best_estimator_\n",
        "print('best params:', rs.best_params_)\n",
        "print('best CV score:', rs.best_score_)\n",
        "print('model size: {:0.2f}M'.format(rs.best_estimator_.size_ / 1000000))"
      ],
      "execution_count": 0,
      "outputs": []
    },
    {
      "cell_type": "markdown",
      "metadata": {
        "id": "YKKtHWCarInb",
        "colab_type": "text"
      },
      "source": [
        "### Check parameter space\n",
        "\n"
      ]
    },
    {
      "cell_type": "code",
      "metadata": {
        "id": "jbTK8uoBrInb",
        "colab_type": "code",
        "colab": {}
      },
      "source": [
        "_x = [s.parameters['c1'] for s in rs.grid_scores_]\n",
        "_y = [s.parameters['c2'] for s in rs.grid_scores_]\n",
        "_c = [s.mean_validation_score for s in rs.grid_scores_]\n",
        "\n",
        "fig = plt.figure()\n",
        "fig.set_size_inches(12, 12)\n",
        "ax = plt.gca()\n",
        "ax.set_yscale('log')\n",
        "ax.set_xscale('log')\n",
        "ax.set_xlabel('C1')\n",
        "ax.set_ylabel('C2')\n",
        "ax.set_title(\"Randomized Hyperparameter Search CV Results (min={:0.3}, max={:0.3})\".format(\n",
        "    min(_c), max(_c)\n",
        "))\n",
        "\n",
        "ax.scatter(_x, _y, c=_c, s=60, alpha=0.9, edgecolors=[0,0,0])\n",
        "\n",
        "print(\"Dark blue => {:0.4}, dark red => {:0.4}\".format(min(_c), max(_c)))"
      ],
      "execution_count": 0,
      "outputs": []
    },
    {
      "cell_type": "markdown",
      "metadata": {
        "id": "yXe-hwjfrInd",
        "colab_type": "text"
      },
      "source": [
        "## Check best estimator on our test data\n",
        "\n"
      ]
    },
    {
      "cell_type": "code",
      "metadata": {
        "id": "X2GljAlurInd",
        "colab_type": "code",
        "colab": {}
      },
      "source": [
        "crf = rs.best_estimator_\n",
        "y_pred = crf.predict(X_test)\n",
        "print(metrics.flat_classification_report(\n",
        "    y_test, y_pred, labels=sorted_labels, digits=3\n",
        "))"
      ],
      "execution_count": 0,
      "outputs": []
    }
  ]
}